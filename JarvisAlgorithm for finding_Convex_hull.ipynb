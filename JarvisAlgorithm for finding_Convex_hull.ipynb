{
 "cells": [
  {
   "cell_type": "code",
   "execution_count": 378,
   "metadata": {},
   "outputs": [],
   "source": [
    "import pandas as pd\n",
    "import numpy as np\n",
    "from matplotlib import pyplot as plt"
   ]
  },
  {
   "cell_type": "code",
   "execution_count": 379,
   "metadata": {},
   "outputs": [],
   "source": [
    "new_points=[(0,3),(2,2),(1,1),(2,1),(3,0),(0,0),(3,3)]"
   ]
  },
  {
   "cell_type": "code",
   "execution_count": 380,
   "metadata": {},
   "outputs": [],
   "source": [
    "def find_left_most_point(points):\n",
    "    points=np.array(points)\n",
    "    best_x=10000000\n",
    "    best_index=-1000\n",
    "    #print(len(points))\n",
    "    for i in range(points.shape[0]):\n",
    "        if(points[i][0]<best_x):\n",
    "            best_x=points[i][0]\n",
    "            best_index=i\n",
    "            \n",
    "    return best_index"
   ]
  },
  {
   "cell_type": "code",
   "execution_count": 381,
   "metadata": {},
   "outputs": [],
   "source": [
    "def check_signed_area_of_traingle(points1,points2,points3):\n",
    "    signed_area=0.5*((points1[0]*(points2[1]-points3[1]))+(points2[0]*(points3[1]-points1[1]))+(points3[0]*(points1[1]-points2[1])))\n",
    "    return signed_area"
   ]
  },
  {
   "cell_type": "code",
   "execution_count": 382,
   "metadata": {},
   "outputs": [],
   "source": [
    "def value_comparator(p1,p2):\n",
    "    if(p1[0] is p2[0] and p2[1] is p1[1]):\n",
    "        return False\n",
    "    else:\n",
    "        return True"
   ]
  },
  {
   "cell_type": "code",
   "execution_count": 383,
   "metadata": {},
   "outputs": [],
   "source": [
    "def jarvis_algorithm(new_points):\n",
    "    first_point=find_left_most_point(new_points)\n",
    "    first_run=True\n",
    "    fixed_point=first_point\n",
    "    convex_hull=[]\n",
    "    convex_hull.append(new_points[first_point])\n",
    "    while(first_run or fixed_point!=first_point):\n",
    "        second_point=(fixed_point+1)%len(new_points)\n",
    "        for i in range(len(new_points)):\n",
    "            if(value_comparator(new_points[fixed_point],new_points[i]) and value_comparator(new_points[second_point],new_points[i])):\n",
    "                check_area=check_signed_area_of_traingle(new_points[fixed_point],new_points[second_point],new_points[i])\n",
    "                if(check_area>0):\n",
    "                    second_point=i\n",
    "        if(new_points[second_point] not in convex_hull):\n",
    "            convex_hull.append(new_points[second_point])\n",
    "        first_run=False\n",
    "        fixed_point=second_point\n",
    "    return convex_hull"
   ]
  },
  {
   "cell_type": "code",
   "execution_count": 384,
   "metadata": {},
   "outputs": [
    {
     "name": "stdout",
     "output_type": "stream",
     "text": [
      "[(0, 3), (3, 3), (3, 0), (0, 0)]\n"
     ]
    }
   ],
   "source": [
    "#print(new_points)\n",
    "ans=jarvis_algorithm(new_points)\n",
    "print(ans)"
   ]
  },
  {
   "cell_type": "code",
   "execution_count": null,
   "metadata": {},
   "outputs": [],
   "source": []
  },
  {
   "cell_type": "code",
   "execution_count": null,
   "metadata": {},
   "outputs": [],
   "source": []
  },
  {
   "cell_type": "code",
   "execution_count": null,
   "metadata": {},
   "outputs": [],
   "source": []
  },
  {
   "cell_type": "code",
   "execution_count": null,
   "metadata": {},
   "outputs": [],
   "source": []
  },
  {
   "cell_type": "code",
   "execution_count": null,
   "metadata": {},
   "outputs": [],
   "source": []
  }
 ],
 "metadata": {
  "kernelspec": {
   "display_name": "Python 3",
   "language": "python",
   "name": "python3"
  },
  "language_info": {
   "codemirror_mode": {
    "name": "ipython",
    "version": 3
   },
   "file_extension": ".py",
   "mimetype": "text/x-python",
   "name": "python",
   "nbconvert_exporter": "python",
   "pygments_lexer": "ipython3",
   "version": "3.6.4"
  }
 },
 "nbformat": 4,
 "nbformat_minor": 2
}
